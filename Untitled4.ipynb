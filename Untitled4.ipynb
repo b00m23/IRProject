{
  "nbformat": 4,
  "nbformat_minor": 0,
  "metadata": {
    "colab": {
      "provenance": []
    },
    "kernelspec": {
      "name": "python3",
      "display_name": "Python 3"
    },
    "language_info": {
      "name": "python"
    }
  },
  "cells": [
    {
      "cell_type": "code",
      "execution_count": null,
      "metadata": {
        "colab": {
          "base_uri": "https://localhost:8080/"
        },
        "id": "ZFjLY_G__TLm",
        "outputId": "e360b7b3-f851-43d5-bf36-b6cb507029b2"
      },
      "outputs": [
        {
          "output_type": "stream",
          "name": "stdout",
          "text": [
            "{'name': 'Cornelius Jang', 'id': 4858, 'gender': 'Female', 'wealth': 371032, 'committed_crime': True, 'crime_count': 9, 'crime_type': 'felony'}\n",
            "{'name': 'Lucius Jang', 'id': 2937, 'gender': 'Male', 'wealth': 398821, 'committed_crime': True, 'crime_count': 3, 'crime_type': 'misdemeanor'}\n",
            "{'name': 'Danel Claudius', 'id': 9286, 'gender': 'Male', 'wealth': 378909, 'committed_crime': False, 'crime_count': 0, 'crime_type': None}\n",
            "{'name': 'Tiberius Claudius', 'id': 7020, 'gender': 'Female', 'wealth': 726249, 'committed_crime': True, 'crime_count': 10, 'crime_type': 'misdemeanor'}\n",
            "{'name': 'Lucius KIm', 'id': 1730, 'gender': 'Male', 'wealth': 798718, 'committed_crime': True, 'crime_count': 6, 'crime_type': 'misdemeanor'}\n",
            "{'name': 'Aurelius Claudius', 'id': 1207, 'gender': 'Female', 'wealth': 386016, 'committed_crime': False, 'crime_count': 0, 'crime_type': None}\n",
            "{'name': 'Danel Claudius', 'id': 4286, 'gender': 'Female', 'wealth': 829934, 'committed_crime': True, 'crime_count': 9, 'crime_type': 'felony'}\n",
            "{'name': 'Danel Wang', 'id': 6910, 'gender': 'Female', 'wealth': 886729, 'committed_crime': False, 'crime_count': 0, 'crime_type': None}\n",
            "{'name': 'Aurelius KIm', 'id': 2438, 'gender': 'Male', 'wealth': 294875, 'committed_crime': False, 'crime_count': 0, 'crime_type': None}\n",
            "{'name': 'Danel KIm', 'id': 9601, 'gender': 'Female', 'wealth': 547894, 'committed_crime': False, 'crime_count': 0, 'crime_type': None}\n"
          ]
        }
      ],
      "source": [
        "import random\n",
        "\n",
        "#  name list\n",
        "first_names = [\"Marcus\", \"Lucius\", \"Kevin\", \"Tiberius\", \"Jack\", \"Aurelius\", \"Cornelius\",\"Danel\"]\n",
        "last_names = [\"Jang\", \"Flavius\", \"Choi\", \"Wang\", \"Valerius\", \"Claudius\", \"Octavius\",\"KIm\",]\n",
        "\n",
        "# 성별 리스트\n",
        "genders = [\"Male\", \"Female\"]\n",
        "\n",
        "# 범죄 유형\n",
        "crime_types = [\"misdemeanor\", \"felony\"]\n",
        "\n",
        "def generate_random_person():\n",
        "    # 랜덤 이름 생성\n",
        "    name = random.choice(first_names) + \" \" + random.choice(last_names)\n",
        "\n",
        "    # 랜덤 ID 생성 (숫자로 된 고유 ID)\n",
        "    person_id = random.randint(1000, 9999)\n",
        "\n",
        "    # 랜덤 성별 생성\n",
        "    gender = random.choice(genders)\n",
        "\n",
        "    # 랜덤 보유 자산 (1,000달러 ~ 1,000,000달러 사이)\n",
        "    wealth = random.randint(1000, 1000000)\n",
        "\n",
        "    # did criminalor not\n",
        "    committed_crime = random.choice([True, False])\n",
        "\n",
        "    if committed_crime:\n",
        "        # if didit between 1~10\n",
        "        crime_count = random.randint(1, 10)\n",
        "\n",
        "        # 범죄 유형은 랜덤 선택\n",
        "        crime_type = random.choice(crime_types)\n",
        "    else:\n",
        "        # 범죄 기록이 없는 경우\n",
        "        crime_count = 0\n",
        "        crime_type = None\n",
        "\n",
        "    # 결과 반환\n",
        "    return {\n",
        "        \"name\": name,\n",
        "        \"id\": person_id,\n",
        "        \"gender\": gender,\n",
        "        \"wealth\": wealth,\n",
        "        \"committed_crime\": committed_crime,\n",
        "        \"crime_count\": crime_count,\n",
        "        \"crime_type\": crime_type\n",
        "    }\n",
        "\n",
        "# 10명의 사람을 랜덤 생성하여 출력\n",
        "for _ in range(10):\n",
        "    person = generate_random_person()\n",
        "    print(person)\n"
      ]
    }
  ]
}